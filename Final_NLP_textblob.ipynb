{
 "cells": [
  {
   "cell_type": "markdown",
   "metadata": {
    "deletable": true,
    "editable": true
   },
   "source": [
    "# Amazon Beauty Reviews Sentiment Analysis"
   ]
  },
  {
   "cell_type": "code",
   "execution_count": 1,
   "metadata": {
    "collapsed": false,
    "deletable": true,
    "editable": true
   },
   "outputs": [
    {
     "name": "stderr",
     "output_type": "stream",
     "text": [
      "/Users/aubreybrowne/anaconda/envs/nlp/lib/python3.5/site-packages/sklearn/cross_validation.py:44: DeprecationWarning: This module was deprecated in version 0.18 in favor of the model_selection module into which all the refactored classes and functions are moved. Also note that the interface of the new CV iterators are different from that of this module. This module will be removed in 0.20.\n",
      "  \"This module will be removed in 0.20.\", DeprecationWarning)\n"
     ]
    }
   ],
   "source": [
    "%matplotlib inline\n",
    "import pandas as pd\n",
    "import numpy as np\n",
    "from nltk.corpus import stopwords\n",
    "from nltk import word_tokenize\n",
    "from string import punctuation\n",
    "from sklearn.cross_validation import train_test_split, cross_val_score\n",
    "from sklearn.feature_extraction.text import CountVectorizer\n",
    "from sklearn.naive_bayes import MultinomialNB\n",
    "from sklearn import svm\n",
    "from sklearn.linear_model import LogisticRegression\n",
    "from sklearn.feature_extraction.text import TfidfVectorizer\n",
    "from sklearn.decomposition import TruncatedSVD\n",
    "from sklearn.metrics import precision_score, confusion_matrix\n",
    "from textblob import TextBlob\n",
    "from sklearn.metrics import f1_score\n",
    "import matplotlib.pyplot as plt\n",
    "from gensim.models import Word2Vec\n",
    "import itertools\n",
    "import seaborn as sns\n",
    "from scipy.stats import ttest_ind"
   ]
  },
  {
   "cell_type": "markdown",
   "metadata": {
    "deletable": true,
    "editable": true
   },
   "source": [
    "## Preprocessing"
   ]
  },
  {
   "cell_type": "code",
   "execution_count": 2,
   "metadata": {
    "collapsed": true,
    "deletable": true,
    "editable": true
   },
   "outputs": [],
   "source": [
    "# read the entire file into a python array\n",
    "with open('Beauty_5.json', 'rb') as f:\n",
    "    reviews = f.readlines()\n",
    "\n",
    "data = [line.decode('utf-8') for line in reviews]\n",
    "# remove the trailing \"\\n\" from each line\n",
    "data_clean = map(lambda x: x.rstrip(), data)\n",
    "\n",
    "# each element of 'data' is an individual JSON object.\n",
    "# i want to convert it into an *array* of JSON objects\n",
    "# which, in and of itself, is one large JSON object\n",
    "# basically... add square brackets to the beginning\n",
    "# and end, and have all the individual business JSON objects\n",
    "# separated by a comma\n",
    "data_json_str = \"[\" + ','.join(data_clean) + \"]\"\n",
    "\n",
    "# now, load it into pandas\n",
    "beauty = pd.read_json((data_json_str))"
   ]
  },
  {
   "cell_type": "code",
   "execution_count": 3,
   "metadata": {
    "collapsed": true,
    "deletable": true,
    "editable": true
   },
   "outputs": [],
   "source": [
    "#cleaning data...lowercase\n",
    "beauty['reviewText'] = beauty['reviewText'].str.lower()"
   ]
  },
  {
   "cell_type": "code",
   "execution_count": 4,
   "metadata": {
    "collapsed": true,
    "deletable": true,
    "editable": true
   },
   "outputs": [],
   "source": [
    "def remove_punctuations(text):\n",
    "    for punct in punctuation:\n",
    "        text = text.replace(punct, ' ')\n",
    "    return text"
   ]
  },
  {
   "cell_type": "code",
   "execution_count": 5,
   "metadata": {
    "collapsed": true,
    "deletable": true,
    "editable": true
   },
   "outputs": [],
   "source": [
    "# remove punctuation\n",
    "beauty['reviewText'] = beauty['reviewText'].apply(remove_punctuations)"
   ]
  },
  {
   "cell_type": "code",
   "execution_count": 6,
   "metadata": {
    "collapsed": true,
    "deletable": true,
    "editable": true
   },
   "outputs": [],
   "source": [
    "# remove stopwords\n",
    "stop = stopwords.words('english')\n",
    "beauty['reviewText'] = beauty['reviewText'].apply(lambda x: ' '.join([item for item in x.split() if item not in stop]))"
   ]
  },
  {
   "cell_type": "code",
   "execution_count": 7,
   "metadata": {
    "collapsed": true,
    "deletable": true,
    "editable": true
   },
   "outputs": [],
   "source": [
    "# creating a tokenized column for the reviewText\n",
    "beauty['reviewText_tok'] = beauty['reviewText'].apply(word_tokenize)"
   ]
  },
  {
   "cell_type": "code",
   "execution_count": 8,
   "metadata": {
    "collapsed": true,
    "deletable": true,
    "editable": true
   },
   "outputs": [],
   "source": [
    "# creating a positive negative column where positive review (4-5) are 1 and negative reviews (1-3) are 0.\n",
    "beauty['pos_neg'] = beauty['overall'].apply(lambda x: 1 if x > 3 else 0)"
   ]
  },
  {
   "cell_type": "code",
   "execution_count": 9,
   "metadata": {
    "collapsed": false,
    "deletable": true,
    "editable": true
   },
   "outputs": [
    {
     "data": {
      "text/html": [
       "<div>\n",
       "<table border=\"1\" class=\"dataframe\">\n",
       "  <thead>\n",
       "    <tr style=\"text-align: right;\">\n",
       "      <th></th>\n",
       "      <th>asin</th>\n",
       "      <th>helpful</th>\n",
       "      <th>overall</th>\n",
       "      <th>reviewText</th>\n",
       "      <th>reviewTime</th>\n",
       "      <th>reviewerID</th>\n",
       "      <th>reviewerName</th>\n",
       "      <th>summary</th>\n",
       "      <th>unixReviewTime</th>\n",
       "      <th>reviewText_tok</th>\n",
       "      <th>pos_neg</th>\n",
       "    </tr>\n",
       "  </thead>\n",
       "  <tbody>\n",
       "    <tr>\n",
       "      <th>0</th>\n",
       "      <td>7806397051</td>\n",
       "      <td>[3, 4]</td>\n",
       "      <td>1</td>\n",
       "      <td>oily creamy expected ordered try highlight con...</td>\n",
       "      <td>01 30, 2014</td>\n",
       "      <td>A1YJEY40YUW4SE</td>\n",
       "      <td>Andrea</td>\n",
       "      <td>Don't waste your money</td>\n",
       "      <td>1391040000</td>\n",
       "      <td>[oily, creamy, expected, ordered, try, highlig...</td>\n",
       "      <td>0</td>\n",
       "    </tr>\n",
       "    <tr>\n",
       "      <th>1</th>\n",
       "      <td>7806397051</td>\n",
       "      <td>[1, 1]</td>\n",
       "      <td>3</td>\n",
       "      <td>palette decent price looking different shades ...</td>\n",
       "      <td>04 18, 2014</td>\n",
       "      <td>A60XNB876KYML</td>\n",
       "      <td>Jessica H.</td>\n",
       "      <td>OK Palette!</td>\n",
       "      <td>1397779200</td>\n",
       "      <td>[palette, decent, price, looking, different, s...</td>\n",
       "      <td>0</td>\n",
       "    </tr>\n",
       "    <tr>\n",
       "      <th>2</th>\n",
       "      <td>7806397051</td>\n",
       "      <td>[0, 1]</td>\n",
       "      <td>4</td>\n",
       "      <td>texture concealer pallet fantastic great cover...</td>\n",
       "      <td>09 6, 2013</td>\n",
       "      <td>A3G6XNM240RMWA</td>\n",
       "      <td>Karen</td>\n",
       "      <td>great quality</td>\n",
       "      <td>1378425600</td>\n",
       "      <td>[texture, concealer, pallet, fantastic, great,...</td>\n",
       "      <td>1</td>\n",
       "    </tr>\n",
       "    <tr>\n",
       "      <th>3</th>\n",
       "      <td>7806397051</td>\n",
       "      <td>[2, 2]</td>\n",
       "      <td>2</td>\n",
       "      <td>really tell exactly thing powder kind oil ish ...</td>\n",
       "      <td>12 8, 2013</td>\n",
       "      <td>A1PQFP6SAJ6D80</td>\n",
       "      <td>Norah</td>\n",
       "      <td>Do not work on my face</td>\n",
       "      <td>1386460800</td>\n",
       "      <td>[really, tell, exactly, thing, powder, kind, o...</td>\n",
       "      <td>0</td>\n",
       "    </tr>\n",
       "    <tr>\n",
       "      <th>4</th>\n",
       "      <td>7806397051</td>\n",
       "      <td>[0, 0]</td>\n",
       "      <td>3</td>\n",
       "      <td>little smaller expected okay lasted long time ...</td>\n",
       "      <td>10 19, 2013</td>\n",
       "      <td>A38FVHZTNQ271F</td>\n",
       "      <td>Nova Amor</td>\n",
       "      <td>It's okay.</td>\n",
       "      <td>1382140800</td>\n",
       "      <td>[little, smaller, expected, okay, lasted, long...</td>\n",
       "      <td>0</td>\n",
       "    </tr>\n",
       "  </tbody>\n",
       "</table>\n",
       "</div>"
      ],
      "text/plain": [
       "         asin helpful  overall  \\\n",
       "0  7806397051  [3, 4]        1   \n",
       "1  7806397051  [1, 1]        3   \n",
       "2  7806397051  [0, 1]        4   \n",
       "3  7806397051  [2, 2]        2   \n",
       "4  7806397051  [0, 0]        3   \n",
       "\n",
       "                                          reviewText   reviewTime  \\\n",
       "0  oily creamy expected ordered try highlight con...  01 30, 2014   \n",
       "1  palette decent price looking different shades ...  04 18, 2014   \n",
       "2  texture concealer pallet fantastic great cover...   09 6, 2013   \n",
       "3  really tell exactly thing powder kind oil ish ...   12 8, 2013   \n",
       "4  little smaller expected okay lasted long time ...  10 19, 2013   \n",
       "\n",
       "       reviewerID reviewerName                 summary  unixReviewTime  \\\n",
       "0  A1YJEY40YUW4SE       Andrea  Don't waste your money      1391040000   \n",
       "1   A60XNB876KYML   Jessica H.             OK Palette!      1397779200   \n",
       "2  A3G6XNM240RMWA        Karen           great quality      1378425600   \n",
       "3  A1PQFP6SAJ6D80        Norah  Do not work on my face      1386460800   \n",
       "4  A38FVHZTNQ271F    Nova Amor              It's okay.      1382140800   \n",
       "\n",
       "                                      reviewText_tok  pos_neg  \n",
       "0  [oily, creamy, expected, ordered, try, highlig...        0  \n",
       "1  [palette, decent, price, looking, different, s...        0  \n",
       "2  [texture, concealer, pallet, fantastic, great,...        1  \n",
       "3  [really, tell, exactly, thing, powder, kind, o...        0  \n",
       "4  [little, smaller, expected, okay, lasted, long...        0  "
      ]
     },
     "execution_count": 9,
     "metadata": {},
     "output_type": "execute_result"
    }
   ],
   "source": [
    "beauty.head()"
   ]
  },
  {
   "cell_type": "markdown",
   "metadata": {
    "deletable": true,
    "editable": true
   },
   "source": [
    "## Text Blob Sentiment Grouped by Product"
   ]
  },
  {
   "cell_type": "code",
   "execution_count": 10,
   "metadata": {
    "collapsed": false,
    "deletable": true,
    "editable": true
   },
   "outputs": [
    {
     "name": "stdout",
     "output_type": "stream",
     "text": [
      "12101\n"
     ]
    },
    {
     "data": {
      "text/plain": [
       "asin\n",
       "7806397051    oily creamy expected ordered try highlight con...\n",
       "9759091062    nothing stings put used whole tube nothing lig...\n",
       "9788072216    big fan prada fragrances years absolutely fell...\n",
       "9790790961    picky comes fragrance love wear want leave oth...\n",
       "9790794231    like perfume first discovered insert magazine ...\n",
       "Name: reviewText, dtype: object"
      ]
     },
     "execution_count": 10,
     "metadata": {},
     "output_type": "execute_result"
    }
   ],
   "source": [
    "grouped = beauty['reviewText'].groupby(beauty['asin']).sum()\n",
    "print(len(grouped))\n",
    "grouped.head()"
   ]
  },
  {
   "cell_type": "code",
   "execution_count": 11,
   "metadata": {
    "collapsed": false,
    "deletable": true,
    "editable": true
   },
   "outputs": [],
   "source": [
    "first = grouped[grouped.index[0]]"
   ]
  },
  {
   "cell_type": "code",
   "execution_count": 12,
   "metadata": {
    "collapsed": true,
    "deletable": true,
    "editable": true
   },
   "outputs": [],
   "source": [
    "# x must be an asin number from the grouped series\n",
    "def product_sentiment(x):\n",
    "    reviews = TextBlob(grouped[str(x)])\n",
    "    return reviews.sentiment.polarity"
   ]
  },
  {
   "cell_type": "code",
   "execution_count": 13,
   "metadata": {
    "collapsed": false,
    "deletable": true,
    "editable": true
   },
   "outputs": [
    {
     "data": {
      "text/plain": [
       "0.3720697541452258"
      ]
     },
     "execution_count": 13,
     "metadata": {},
     "output_type": "execute_result"
    }
   ],
   "source": [
    "product_sentiment(9790790961)"
   ]
  },
  {
   "cell_type": "code",
   "execution_count": 14,
   "metadata": {
    "collapsed": true,
    "deletable": true,
    "editable": true
   },
   "outputs": [],
   "source": [
    "sentiments = []\n",
    "for x in grouped.index:\n",
    "    sentiments.append(product_sentiment(x))\n",
    "#sentiments"
   ]
  },
  {
   "cell_type": "code",
   "execution_count": 15,
   "metadata": {
    "collapsed": false,
    "deletable": true,
    "editable": true
   },
   "outputs": [
    {
     "data": {
      "image/png": "[encoded data removed]",
      "text/plain": [
       "<matplotlib.figure.Figure at 0x15e086ac8>"
      ]
     },
     "metadata": {},
     "output_type": "display_data"
    }
   ],
   "source": [
    "plot = sns.distplot(sentiments);\n",
    "plot.set(xlabel='Polarity Score', ylabel='Count (1x10^3)')\n",
    "plt.show()"
   ]
  },
  {
   "cell_type": "code",
   "execution_count": 16,
   "metadata": {
    "collapsed": false,
    "deletable": true,
    "editable": true
   },
   "outputs": [
    {
     "data": {
      "text/plain": [
       "0.19906633880798294"
      ]
     },
     "execution_count": 16,
     "metadata": {},
     "output_type": "execute_result"
    }
   ],
   "source": [
    "np.mean(sentiments)"
   ]
  },
  {
   "cell_type": "code",
   "execution_count": 17,
   "metadata": {
    "collapsed": false,
    "deletable": true,
    "editable": true
   },
   "outputs": [
    {
     "data": {
      "text/plain": [
       "[-0.1460401891252955,\n",
       " -0.09779411764705881,\n",
       " -0.09265873015873015,\n",
       " -0.08664502164502164,\n",
       " -0.0831845238095238]"
      ]
     },
     "execution_count": 17,
     "metadata": {},
     "output_type": "execute_result"
    }
   ],
   "source": [
    "sort_sentiments_neg = sorted(sentiments)\n",
    "sort_sentiments_neg[:5]"
   ]
  },
  {
   "cell_type": "code",
   "execution_count": 18,
   "metadata": {
    "collapsed": false,
    "deletable": true,
    "editable": true
   },
   "outputs": [
    {
     "data": {
      "text/plain": [
       "[0.546,\n",
       " 0.5284313725490195,\n",
       " 0.5277777777777778,\n",
       " 0.5261904761904762,\n",
       " 0.5258730158730158]"
      ]
     },
     "execution_count": 18,
     "metadata": {},
     "output_type": "execute_result"
    }
   ],
   "source": [
    "sort_sentiments_pos = sorted(sentiments, reverse=True)\n",
    "sort_sentiments_pos[:5]"
   ]
  },
  {
   "cell_type": "code",
   "execution_count": 19,
   "metadata": {
    "collapsed": true,
    "deletable": true,
    "editable": true
   },
   "outputs": [],
   "source": [
    "def product_num(x):\n",
    "    return grouped.index[sentiments.index(x)]"
   ]
  },
  {
   "cell_type": "markdown",
   "metadata": {
    "deletable": true,
    "editable": true
   },
   "source": [
    "### Most Negative"
   ]
  },
  {
   "cell_type": "code",
   "execution_count": 20,
   "metadata": {
    "collapsed": false,
    "deletable": true,
    "editable": true
   },
   "outputs": [
    {
     "data": {
      "text/plain": [
       "[0.19816326530612247,\n",
       " -0.015563725490196072,\n",
       " 0.39287698412698413,\n",
       " 0.3720697541452258,\n",
       " 0.20075944170771753,\n",
       " 0.1094003086227967,\n",
       " 0.17518701840794867,\n",
       " 0.2447150072150072,\n",
       " 0.305407444668008,\n",
       " 0.19697047000618434,\n",
       " 0.22061586850649362,\n",
       " 0.18718956482114377,\n",
       " 0.13590137426675888,\n",
       " 0.2243313829028115,\n",
       " 0.11904925346762081,\n",
       " 0.22380952380952376,\n",
       " 0.3276923076923077,\n",
       " 0.11449323593073595,\n",
       " 0.2758201058201058,\n",
       " 0.07090694715295362,\n",
       " 0.1719668032502257,\n",
       " 0.1480952380952381,\n",
       " 0.16379490392648288,\n",
       " 0.18384413067552602,\n",
       " 0.1786616161616162,\n",
       " 0.2727002164502164,\n",
       " 0.1308755760368664,\n",
       " 0.17237890061327557,\n",
       " 0.1946540817283851,\n",
       " 0.06317793317793319,\n",
       " 0.17267316017316015,\n",
       " 0.16341161121983044,\n",
       " 0.2230128205128205,\n",
       " 0.09676434676434677,\n",
       " 0.12383219954648528,\n",
       " 0.18654733424470268,\n",
       " 0.13939445970695968,\n",
       " 0.170305394443744,\n",
       " 0.19781605975723623,\n",
       " 0.12839568941696608,\n",
       " 0.13924832743014556,\n",
       " 0.10405913978494626,\n",
       " 0.11967304625199363,\n",
       " 0.12507134313055365,\n",
       " 0.19158874458874461,\n",
       " 0.19741666666666668,\n",
       " 0.09803283970931032,\n",
       " 0.09985362997658082,\n",
       " 0.008866071428571437,\n",
       " 0.20548128342245983,\n",
       " 0.20136515749995018,\n",
       " 0.22515577382905896,\n",
       " 0.14427478171545974,\n",
       " 0.24376169098391323,\n",
       " 0.11345663962992492,\n",
       " 0.19817019400352737,\n",
       " 0.20040698336750987,\n",
       " 0.07838135692181934,\n",
       " 0.15354299928926798,\n",
       " 0.26590543422821905,\n",
       " 0.3472517730496454,\n",
       " 0.2313131313131313,\n",
       " 0.24767600820232408,\n",
       " 0.17738207547169824,\n",
       " 0.20172701592193124,\n",
       " 0.215200796227582,\n",
       " 0.09086021505376345,\n",
       " 0.26931216931216934,\n",
       " 0.3056646825396825,\n",
       " 0.13498553627058293,\n",
       " 0.09789396085238289,\n",
       " 0.24760158202231367,\n",
       " 0.14751674107142856,\n",
       " 0.17688464615095043,\n",
       " 0.1821371930250435,\n",
       " 0.14785555555555555,\n",
       " 0.17604832977967305,\n",
       " 0.324040404040404,\n",
       " 0.19257575757575762,\n",
       " 0.28036848072562365,\n",
       " 0.043888888888888894,\n",
       " 0.18832088623350768,\n",
       " 0.05665475197585291,\n",
       " 0.26058799473033045,\n",
       " 0.26220124279164886,\n",
       " 0.16615410052910054,\n",
       " 0.11998040752351097,\n",
       " 0.2579828042328043,\n",
       " 0.14106322969959337,\n",
       " 0.14966860332649803,\n",
       " 0.12432926829268297,\n",
       " 0.10219182456887378,\n",
       " 0.1337166786205249,\n",
       " 0.06164498070235773,\n",
       " 0.3075280112044818,\n",
       " 0.1665176780246469,\n",
       " 0.18227062289562282,\n",
       " 0.12440932038353245,\n",
       " 0.1901131854256854,\n",
       " 0.20123737373737371,\n",
       " 0.2167131696428571,\n",
       " 0.19192708333333336,\n",
       " 0.21502475196255108,\n",
       " 0.3144397759103641,\n",
       " 0.21594960594960602,\n",
       " 0.06460340734534283,\n",
       " 0.196010101010101,\n",
       " 0.1675091575091575,\n",
       " 0.12620175923367413,\n",
       " 0.1927289196310935,\n",
       " 0.16574074981622164,\n",
       " 0.16698979591836732,\n",
       " 0.22267897015265437,\n",
       " 0.1664806128830519,\n",
       " 0.25189732142857146,\n",
       " 0.15299019607843137,\n",
       " 0.11683589138134595,\n",
       " 0.1504568411386593,\n",
       " 0.2278495440729483,\n",
       " 0.15896103896103894,\n",
       " 0.273997113997114,\n",
       " 0.18378875157100966,\n",
       " 0.2936507936507938,\n",
       " 0.20940808366550948,\n",
       " 0.19091964285714288,\n",
       " 0.2993779708853238,\n",
       " 0.16682667133265935,\n",
       " 0.19633136924803585,\n",
       " 0.14380252100840335,\n",
       " 0.1815183346065699,\n",
       " 0.185291248606466,\n",
       " 0.17601479426722133,\n",
       " 0.1789381914381915,\n",
       " 0.15950766216484777,\n",
       " 0.17970182858394232,\n",
       " 0.11405554419333946,\n",
       " 0.06628968253968255,\n",
       " 0.2700752270605211,\n",
       " 0.24712146577380953,\n",
       " 0.05154922779922779,\n",
       " 0.31300097751710654,\n",
       " 0.2266678964974419,\n",
       " 0.2843996257979308,\n",
       " 0.2500638792102206,\n",
       " 0.23571353933422898,\n",
       " 0.1250682728486466,\n",
       " 0.17558521303258148,\n",
       " 0.13135236525132898,\n",
       " 0.16667181655553737,\n",
       " 0.10745773257191532,\n",
       " 0.11603615520282184,\n",
       " 0.1114954093525522,\n",
       " 0.12885647480091925,\n",
       " 0.1751778594212805,\n",
       " 0.04348958333333333,\n",
       " 0.3720348837209302,\n",
       " 0.06241379310344827,\n",
       " 0.12516735496646209,\n",
       " 0.1698090901457662,\n",
       " 0.1928153153153153,\n",
       " 0.15742393098508203,\n",
       " 0.18142981539533262,\n",
       " 0.13533730158730156,\n",
       " 0.19290360976270957,\n",
       " 0.17571316029649367,\n",
       " 0.13166815584415584,\n",
       " 0.2424853840317756,\n",
       " 0.27005096352922453,\n",
       " 0.19623216289882955,\n",
       " 0.15963095238095235,\n",
       " 0.11964151827553891,\n",
       " 0.048693151417870506,\n",
       " 0.12985851780494642,\n",
       " 0.26747497750787225,\n",
       " 0.20998168498168496,\n",
       " 0.1600136314067612,\n",
       " 0.17799915566745844,\n",
       " 0.1623193568336425,\n",
       " 0.22317275747508306,\n",
       " 0.2613510520487264,\n",
       " 0.14849733449190947,\n",
       " 0.18496608527131783,\n",
       " 0.12580880230880231,\n",
       " 0.12117632575757575,\n",
       " 0.19096312532233112,\n",
       " 0.3808080808080809,\n",
       " 0.19178865182436625,\n",
       " 0.217455157161679,\n",
       " 0.12839147286821703,\n",
       " 0.15016012821145894,\n",
       " 0.24368407578085,\n",
       " 0.2021402597402599,\n",
       " 0.3538461538461538,\n",
       " 0.13109890109890113,\n",
       " 0.147267316017316,\n",
       " 0.20736721611721617,\n",
       " 0.15171630094043886,\n",
       " 0.17097943722943723,\n",
       " 0.1995292207792207,\n",
       " 0.26376814543481214,\n",
       " 0.17948214285714287,\n",
       " 0.2080528982426304,\n",
       " 0.09945193695193694,\n",
       " 0.22340583028083028,\n",
       " 0.23173206555349413,\n",
       " 0.18099867724867724,\n",
       " 0.13076819991079927,\n",
       " 0.10286740558292283,\n",
       " 0.18832791159099277,\n",
       " 0.23052951950010775,\n",
       " 0.30587121212121215,\n",
       " 0.36295787545787545,\n",
       " 0.11235288001663545,\n",
       " 0.12857738095238097,\n",
       " 0.2008067498844198,\n",
       " 0.2821558714218595,\n",
       " 0.15046992481203014,\n",
       " 0.12964065255731919,\n",
       " 0.1443031056837027,\n",
       " 0.17284151938287273,\n",
       " 0.14899425287356324,\n",
       " 0.08779349181891558,\n",
       " 0.17098895152466584,\n",
       " 0.11166666666666669,\n",
       " 0.2546818181818182,\n",
       " 0.10766104690416618,\n",
       " 0.2571755411255412,\n",
       " 0.17864243943191305,\n",
       " 0.11134266014883985,\n",
       " 0.23743570785650003,\n",
       " 0.18861111111111112,\n",
       " 0.06602492559523808,\n",
       " 0.1867348043113348,\n",
       " 0.1516542980828695,\n",
       " -0.009599929359343574,\n",
       " 0.17966450216450217,\n",
       " 0.0853525444512569,\n",
       " 0.12442133924276784,\n",
       " 0.24092007864908632,\n",
       " 0.3174215686274511,\n",
       " 0.17875966698232312,\n",
       " 0.19223741171109582,\n",
       " 0.15126488095238091,\n",
       " 0.2651960784313725,\n",
       " 0.1502895681554218,\n",
       " 0.13238636363636366,\n",
       " 0.1386634437515495,\n",
       " 0.17765312791783391,\n",
       " 0.2568749999999999,\n",
       " 0.1763495596614154,\n",
       " 0.25918367346938787,\n",
       " 0.21785714285714286,\n",
       " 0.28114994282447114,\n",
       " 0.27760449320794156,\n",
       " 0.2377551020408163,\n",
       " 0.2509622623753059,\n",
       " 0.1563617886178861,\n",
       " 0.17518997054857707,\n",
       " 0.16528738048522215,\n",
       " 0.12245316159250587,\n",
       " 0.0995045596480023,\n",
       " 0.2221028476731602,\n",
       " 0.20923400673400674,\n",
       " 0.20562683284457478,\n",
       " 0.11018914308649409,\n",
       " 0.17930107526881725,\n",
       " 0.2198817999269806,\n",
       " 0.23028763640873004,\n",
       " 0.1779166666666666,\n",
       " 0.06999999999999999,\n",
       " 0.29541666666666666,\n",
       " 0.12491319444444447,\n",
       " 0.19980597340309572,\n",
       " 0.1844074675324675,\n",
       " 0.1764692585895117,\n",
       " 0.08716921519340876,\n",
       " 0.32500000000000007,\n",
       " 0.17994350282485871,\n",
       " 0.12133116883116882,\n",
       " 0.14348165495706475,\n",
       " 0.1180871212121212,\n",
       " 0.2317441674656441,\n",
       " 0.10451846764346762,\n",
       " 0.25476190476190463,\n",
       " 0.1765406162464986,\n",
       " 0.18483144368858645,\n",
       " 0.13265728662363285,\n",
       " 0.247962962962963,\n",
       " 0.221373106060606,\n",
       " 0.15960648148148146,\n",
       " 0.19508051050604244,\n",
       " 0.1821124781651098,\n",
       " 0.18795366362033034,\n",
       " 0.3482301711893548,\n",
       " 0.051561421670117326,\n",
       " 0.3071964821964821,\n",
       " 0.2626984126984127,\n",
       " 0.15190329218107002,\n",
       " 0.2371642561983471,\n",
       " 0.09214406662519872,\n",
       " 0.08809090909090908,\n",
       " 0.15217152730310626,\n",
       " 0.28650793650793654,\n",
       " 0.14446078431372544,\n",
       " 0.24765088593576962,\n",
       " 0.20236430763329497,\n",
       " 0.17612785764959668,\n",
       " 0.13643392188336012,\n",
       " 0.25700396825396826,\n",
       " 0.2127463054187192,\n",
       " 0.14247895622895623,\n",
       " 0.09464297686089732,\n",
       " 0.2876811594202899,\n",
       " 0.2084377009129484,\n",
       " 0.09242424242424242,\n",
       " 0.3426470588235294,\n",
       " 0.23549681690858162,\n",
       " 0.17157029478458044,\n",
       " 0.20199525651653305,\n",
       " 0.16610962566844922,\n",
       " 0.393154761904762,\n",
       " 0.21343939393939393,\n",
       " 0.09672984113175505,\n",
       " 0.14259420503738698,\n",
       " 0.15331262939958593,\n",
       " 0.10205627705627701,\n",
       " 0.26126811594202903,\n",
       " 0.16986434108527132,\n",
       " 0.10717930029154517,\n",
       " 0.14835385324246705,\n",
       " 0.2523316737964089,\n",
       " 0.31068376068376063,\n",
       " 0.19766055045871564,\n",
       " 0.3366028911564626,\n",
       " 0.17812026515151516,\n",
       " 0.2454685099846391,\n",
       " 0.14434750098386465,\n",
       " 0.2432015900765901,\n",
       " 0.23698099002446824,\n",
       " -0.09265873015873015,\n",
       " 0.13915425411870902,\n",
       " 0.18995013425393173,\n",
       " 0.28558084772370484,\n",
       " 0.22140115966758311,\n",
       " 0.2118944466991342,\n",
       " 0.06856666666666669,\n",
       " 0.143226911976912,\n",
       " 0.2582755194000548,\n",
       " 0.28003211269604705,\n",
       " 0.23681657848324514,\n",
       " 0.13649523809523811,\n",
       " 0.14776255707762553,\n",
       " 0.1400656814449918,\n",
       " 0.09550724637681159,\n",
       " 0.08190498320245158,\n",
       " 0.17909542557180358,\n",
       " 0.3099883353917932,\n",
       " 0.17589285714285713,\n",
       " 0.18745728460330233,\n",
       " 0.13932005494505495,\n",
       " 0.21797409579667643,\n",
       " 0.19596528471528468,\n",
       " 0.2615679824561403,\n",
       " 0.2103096179183136,\n",
       " 0.16395743145743152,\n",
       " 0.1600426803243705,\n",
       " 0.09639528929851511,\n",
       " 0.10490196078431374,\n",
       " 0.1777483473316806,\n",
       " 0.11087533498247784,\n",
       " 0.12595990965556184,\n",
       " 0.14619251960161042,\n",
       " 0.23560267857142858,\n",
       " 0.36227272727272736,\n",
       " 0.1691287878787879,\n",
       " 0.12633449883449885,\n",
       " 0.23656334406334414,\n",
       " 0.20733418367346942,\n",
       " 0.1386113934875916,\n",
       " 0.21638888888888888,\n",
       " 0.13221563961359872,\n",
       " 0.30042735042735036,\n",
       " 0.2546396177518627,\n",
       " 0.23892156862745098,\n",
       " 0.24469202898550724,\n",
       " 0.23589743589743598,\n",
       " 0.13569521748093186,\n",
       " 0.24905901451489698,\n",
       " 0.10345238095238089,\n",
       " 0.17199724328337038,\n",
       " 0.286652648246608,\n",
       " 0.39513790664780774,\n",
       " 0.2636904761904762,\n",
       " 0.2531566849128833,\n",
       " 0.16444083694083694,\n",
       " 0.08858585858585855,\n",
       " 0.19331349206349205,\n",
       " 0.0909722222222222,\n",
       " 0.23393801965230535,\n",
       " 0.29149051490514927,\n",
       " 0.21791125541125533,\n",
       " 0.2688839285714285,\n",
       " 0.13522681704260647,\n",
       " 0.2332965113691983,\n",
       " 0.2579843321815799,\n",
       " 0.2508747412008282,\n",
       " 0.23926791277258577,\n",
       " 0.18461405681938858,\n",
       " 0.21754385964912282,\n",
       " 0.24027777777777773,\n",
       " 0.25039844509232256,\n",
       " 0.42306722689075626,\n",
       " 0.19290123456790131,\n",
       " 0.17700088047545673,\n",
       " 0.214500777000777,\n",
       " 0.16804307116104872,\n",
       " 0.22077922077922082,\n",
       " 0.2012077922077922,\n",
       " 0.1760056390977444,\n",
       " 0.20400808840282528,\n",
       " 0.1625952380952381,\n",
       " 0.12451098634504747,\n",
       " 0.1723488548488548,\n",
       " 0.3051625457875458,\n",
       " 0.34879118057084163,\n",
       " 0.12221711521410314,\n",
       " 0.24296418732782377,\n",
       " 0.12447804659498199,\n",
       " 0.117006336816943,\n",
       " 0.300524152106886,\n",
       " 0.03340388007054673,\n",
       " 0.37307482993197283,\n",
       " 0.14353998203054807,\n",
       " 0.17516282959464774,\n",
       " 0.2110678210678211,\n",
       " 0.2030255122655123,\n",
       " 0.18775449667703203,\n",
       " 0.11781482406482403,\n",
       " 0.13624747516792982,\n",
       " 0.0698268398268398,\n",
       " 0.1641514268044881,\n",
       " 0.11626614877269345,\n",
       " 0.12994987468671682,\n",
       " 0.17696385015621025,\n",
       " 0.1827365114560236,\n",
       " 0.0951173222912353,\n",
       " 0.06342864070009592,\n",
       " 0.23507982104636369,\n",
       " 0.16647964015151515,\n",
       " 0.1928041460257956,\n",
       " 0.15791544011544015,\n",
       " 0.13965899919289756,\n",
       " 0.17297297297297298,\n",
       " 0.23288735867307306,\n",
       " 0.23514498965372324,\n",
       " 0.10076951399116346,\n",
       " 0.256814182194617,\n",
       " 0.1431392535432459,\n",
       " 0.15721530492161553,\n",
       " 0.2307598039215686,\n",
       " 0.17560992578849716,\n",
       " 0.23290914066776133,\n",
       " 0.18395061728395062,\n",
       " 0.246854066985646,\n",
       " 0.10027914614121514,\n",
       " 0.17194207533759773,\n",
       " 0.13773668360624886,\n",
       " 0.12375881903563564,\n",
       " 0.27820707070707074,\n",
       " 0.0900735294117647,\n",
       " 0.3104896675651393,\n",
       " 0.16772468142186459,\n",
       " 0.12214032214032214,\n",
       " 0.18035185185185185,\n",
       " 0.29642857142857143,\n",
       " 0.235444236420514,\n",
       " 0.12836491739552966,\n",
       " 0.2365906084656085,\n",
       " 0.06544483294483293,\n",
       " 0.07886904761904762,\n",
       " 0.1585499557913351,\n",
       " 0.08765664160401004,\n",
       " 0.28252410468319566,\n",
       " 0.20945652173913043,\n",
       " 0.19121876473361632,\n",
       " 0.24969879518072285,\n",
       " 0.2214768806073155,\n",
       " 0.2448924731182796,\n",
       " 0.11862081580391444,\n",
       " 0.13960309427414686,\n",
       " 0.21080000000000002,\n",
       " 0.3138192137320045,\n",
       " 0.23819191919191912,\n",
       " 0.22406885567262944,\n",
       " 0.14981884057971015,\n",
       " 0.20699649556792404,\n",
       " 0.03835084033613446,\n",
       " 0.15599914432332007,\n",
       " 0.17152710473605992,\n",
       " 0.15218253968253967,\n",
       " 0.18051801801801803,\n",
       " 0.2758144166757613,\n",
       " 0.22833333333333333,\n",
       " 0.18655913978494623,\n",
       " 0.2994190944190944,\n",
       " 0.2978472222222222,\n",
       " 0.1329830714552937,\n",
       " 0.3542105263157895,\n",
       " 0.07709976035868893,\n",
       " 0.12993733417120518,\n",
       " 0.20316404647983596,\n",
       " 0.20306490384615386,\n",
       " -0.018740046185698352,\n",
       " 0.08176100628930819,\n",
       " 0.03540476190476192,\n",
       " 0.026093568740627578,\n",
       " 0.21708406819517923,\n",
       " 0.34877450980392155,\n",
       " 0.043605990783410147,\n",
       " 0.14684719535783364,\n",
       " 0.11631570810142236,\n",
       " 0.25761602738346934,\n",
       " 0.14534632034632033,\n",
       " 0.15905205905205905,\n",
       " 0.15835227272727276,\n",
       " 0.06236613202380838,\n",
       " 0.17411008822401225,\n",
       " 0.06027105078829216,\n",
       " 0.253147095959596,\n",
       " 0.14953255624515477,\n",
       " 0.2541826298701299,\n",
       " 0.1713977972141237,\n",
       " 0.12522802280228015,\n",
       " 0.19940096106079713,\n",
       " 0.17543188582251076,\n",
       " 0.25409868240225386,\n",
       " 0.24001629323057894,\n",
       " 0.32546474358974364,\n",
       " 0.19382117882117883,\n",
       " 0.191303224139045,\n",
       " 0.17441353691353698,\n",
       " 0.15905972558514933,\n",
       " 0.1818057070156307,\n",
       " 0.2300980392156862,\n",
       " 0.24286128480572888,\n",
       " 0.06569133677567414,\n",
       " 0.2621693121693122,\n",
       " 0.09267983789260384,\n",
       " 0.18918650793650796,\n",
       " 0.1115702479338843,\n",
       " 0.27681159420289864,\n",
       " 0.015282102795914958,\n",
       " 0.1583343496152392,\n",
       " 0.2220952380952381,\n",
       " 0.09004329004329005,\n",
       " 0.20551754536853872,\n",
       " 0.12920600795600798,\n",
       " 0.09876623376623375,\n",
       " 0.2568379281537177,\n",
       " 0.1704132014823334,\n",
       " 0.17219022017409105,\n",
       " 0.23060846810846816,\n",
       " 0.05154320987654321,\n",
       " 0.22553566881297976,\n",
       " 0.1449023199023199,\n",
       " 0.05564039408866995,\n",
       " 0.20491279069767432,\n",
       " 0.15860880949116266,\n",
       " 0.1491114741114741,\n",
       " 0.27272727272727276,\n",
       " 0.1638297013720742,\n",
       " 0.1392422577422577,\n",
       " 0.202699530516432,\n",
       " 0.24253586049804549,\n",
       " 0.13157798796468495,\n",
       " 0.2059390119684236,\n",
       " 0.23534153005464484,\n",
       " 0.17115090909090921,\n",
       " 0.18767357163908885,\n",
       " 0.14077777777777778,\n",
       " 0.1774310064935065,\n",
       " 0.24398059327036606,\n",
       " 0.10407440476190477,\n",
       " 0.27835497835497836,\n",
       " 0.18045977011494252,\n",
       " 0.18044871794871797,\n",
       " 0.24153393776035284,\n",
       " 0.1449571672458996,\n",
       " 0.0956766566766567,\n",
       " 0.19655505952380953,\n",
       " 0.2457844932844933,\n",
       " 0.1483113845219109,\n",
       " 0.1545615628663574,\n",
       " 0.22228535353535347,\n",
       " 0.16600460386174667,\n",
       " 0.1528508771929825,\n",
       " 0.314520202020202,\n",
       " 0.20823670377241815,\n",
       " 0.14266027831817304,\n",
       " 0.11790123456790123,\n",
       " 0.1756567296340024,\n",
       " 0.3996124031007752,\n",
       " 0.1370138561072627,\n",
       " 0.16303382663847776,\n",
       " 0.23647364540221677,\n",
       " 0.22416026625704044,\n",
       " 0.2675058441558441,\n",
       " 0.37949380165289254,\n",
       " 0.20576254346746164,\n",
       " 0.2139119601328904,\n",
       " 0.2660891774891776,\n",
       " 0.19764583333333335,\n",
       " 0.30435534591194974,\n",
       " 0.17446255201109565,\n",
       " 0.09373730238015954,\n",
       " 0.4005908289241622,\n",
       " 0.19186986863711,\n",
       " 0.14640692640692643,\n",
       " 0.21688660801564033,\n",
       " 0.1728902975331547,\n",
       " 0.28708333333333325,\n",
       " 0.18243877551020404,\n",
       " 0.19444687325875457,\n",
       " 0.35286596119929453,\n",
       " 0.11916477702191977,\n",
       " 0.01649999999999999,\n",
       " 0.09230963026044994,\n",
       " 0.13195412311265972,\n",
       " 0.1526422764227642,\n",
       " 0.24479999999999996,\n",
       " 0.2177655677655678,\n",
       " 0.20405505952380953,\n",
       " 0.08444444444444443,\n",
       " 0.31774376417233563,\n",
       " 0.10661589635854342,\n",
       " 0.08126750700280112,\n",
       " 0.2504817708333333,\n",
       " 0.4961647727272728,\n",
       " 0.1298907713005458,\n",
       " 0.15881410256410255,\n",
       " 0.15446996059496043,\n",
       " 0.15890751327354194,\n",
       " 0.3193402777777778,\n",
       " 0.18917256985438805,\n",
       " 0.11287878787878786,\n",
       " 0.1837626262626263,\n",
       " 0.18624341238471673,\n",
       " 0.19861860060229625,\n",
       " 0.22944658129327136,\n",
       " 0.1988485144991994,\n",
       " 0.11957213329306357,\n",
       " 0.08728110089423954,\n",
       " 0.2264776785714285,\n",
       " 0.13442241290455578,\n",
       " 0.25637973137973136,\n",
       " 0.12881410256410256,\n",
       " 0.06676057813154586,\n",
       " 0.07953144078144082,\n",
       " 0.1580551609848485,\n",
       " 0.11718749999999997,\n",
       " 0.1036030636030636,\n",
       " 0.13355855855855858,\n",
       " 0.2946590909090909,\n",
       " 0.14328230491442936,\n",
       " 0.21196495452113423,\n",
       " 0.2772844827586207,\n",
       " 0.11884823289585195,\n",
       " 0.24738095238095242,\n",
       " 0.18857638888888895,\n",
       " 0.14632882178062892,\n",
       " 0.10489248456461576,\n",
       " 0.26610360360360363,\n",
       " 0.2345809850526831,\n",
       " 0.24353658536585368,\n",
       " 0.15013700838168922,\n",
       " 0.2725390902629709,\n",
       " 0.1455568787937209,\n",
       " 0.14026112776112779,\n",
       " 0.17885926800472263,\n",
       " 0.25687134502923986,\n",
       " 0.12137105444224656,\n",
       " 0.13297057880391214,\n",
       " 0.1216337285902503,\n",
       " 0.21913359788359782,\n",
       " 0.13690551346801347,\n",
       " 0.23811098513479476,\n",
       " 0.09326990838618746,\n",
       " 0.1930764094997912,\n",
       " 0.1681119698297612,\n",
       " 0.14482056138306135,\n",
       " 0.18340136054421768,\n",
       " 0.16607340916164454,\n",
       " 0.2201388888888888,\n",
       " 0.13950090971830098,\n",
       " 0.34880434782608694,\n",
       " 0.17716464308261182,\n",
       " 0.24769841269841267,\n",
       " 0.10393772893772894,\n",
       " 0.3139544513457557,\n",
       " 0.15420395869191045,\n",
       " 0.2647832491582491,\n",
       " 0.3654761904761905,\n",
       " 0.12788777424665934,\n",
       " 0.16098958333333335,\n",
       " 0.11885749385749388,\n",
       " 0.1232576641917303,\n",
       " 0.08267529838582471,\n",
       " 0.14141604010025063,\n",
       " 0.27126515151515146,\n",
       " 0.10530083304673474,\n",
       " 0.25829899267399264,\n",
       " 0.18343771043771037,\n",
       " 0.3128682170542636,\n",
       " 0.134247311827957,\n",
       " 0.1759153095581666,\n",
       " 0.18517992424242422,\n",
       " 0.27313063063063064,\n",
       " 0.18466817942646668,\n",
       " 0.06800595238095238,\n",
       " 0.1390130791194622,\n",
       " 0.13336489898989895,\n",
       " 0.13008109314927493,\n",
       " 0.06734006734006731,\n",
       " 0.18358469487501747,\n",
       " 0.21632066001631226,\n",
       " 0.2477456940222899,\n",
       " 0.1403652604410179,\n",
       " 0.1565621370499419,\n",
       " 0.08656940553999382,\n",
       " 0.20592342342342337,\n",
       " 0.20470430107526882,\n",
       " 0.2442161550570641,\n",
       " 0.18286682989142009,\n",
       " 0.2391161927153307,\n",
       " 0.004381419234360406,\n",
       " 0.13337114845938383,\n",
       " 0.1820821661998132,\n",
       " 0.2602910199556542,\n",
       " 0.11752414252414255,\n",
       " 0.13299927113702623,\n",
       " 0.07055345302277818,\n",
       " 0.18187030075187974,\n",
       " 0.1264033189033189,\n",
       " 0.18149659863945578,\n",
       " 0.2107760753204103,\n",
       " 0.17621344641752804,\n",
       " 0.21614385614385617,\n",
       " 0.1884862399505256,\n",
       " 0.2803571428571429,\n",
       " 0.2116066433566434,\n",
       " 0.09007278138528137,\n",
       " 0.15424464976703792,\n",
       " 0.237987012987013,\n",
       " 0.0783042013914497,\n",
       " 0.21217871485943773,\n",
       " 0.18609195402298856,\n",
       " 0.28610572526065475,\n",
       " 0.141805977710233,\n",
       " 0.14498712998712998,\n",
       " 0.22071964732515184,\n",
       " 0.2051598173515981,\n",
       " 0.0902777777777778,\n",
       " 0.28084244702665767,\n",
       " 0.14470164305391578,\n",
       " 0.2054892367906066,\n",
       " 0.21944444444444447,\n",
       " 0.11680469687545152,\n",
       " 0.13134618631959066,\n",
       " 0.07843444650587511,\n",
       " 0.17653083285982904,\n",
       " 0.15308525741298856,\n",
       " 0.19372650375939846,\n",
       " 0.21534731371687899,\n",
       " 0.17374245472837022,\n",
       " 0.15112179487179486,\n",
       " 0.2624458874458874,\n",
       " 0.26519878477277586,\n",
       " 0.2589285714285714,\n",
       " 0.24233482142857138,\n",
       " 0.24493540669856476,\n",
       " 0.17504841649578495,\n",
       " 0.29239583333333324,\n",
       " 0.17459078059621536,\n",
       " 0.2042443765384942,\n",
       " 0.2802927927927927,\n",
       " 0.1631868131868132,\n",
       " 0.3250861195542046,\n",
       " 0.23293611504007558,\n",
       " 0.18855555555555553,\n",
       " 0.215,\n",
       " 0.27985244802146225,\n",
       " 0.34688940092165893,\n",
       " 0.2690826989102851,\n",
       " 0.24391891891891893,\n",
       " 0.2734931972789115,\n",
       " 0.21913809523809522,\n",
       " 0.29427683013503914,\n",
       " 0.3173567977915804,\n",
       " 0.23382276353088535,\n",
       " 0.27238281357708133,\n",
       " 0.2347840531561462,\n",
       " 0.2348972827767469,\n",
       " 0.2799052028218694,\n",
       " 0.2050426136363636,\n",
       " 0.19845032378090233,\n",
       " 0.33260788690476184,\n",
       " 0.2534683507549361,\n",
       " 0.25074074074074076,\n",
       " 0.2680272108843538,\n",
       " 0.2048278544372294,\n",
       " 0.2876555735930737,\n",
       " 0.2501700680272109,\n",
       " 0.22802111410601975,\n",
       " 0.2700877192982456,\n",
       " 0.1927826944560816,\n",
       " 0.21875551146384478,\n",
       " 0.21020359848484851,\n",
       " 0.15956937615457178,\n",
       " 0.1863839761578456,\n",
       " 0.18884441707717564,\n",
       " 0.1641785198928056,\n",
       " 0.19704700061842914,\n",
       " 0.20097222222222214,\n",
       " 0.25722222222222224,\n",
       " 0.11366666666666667,\n",
       " 0.09055907172995778,\n",
       " 0.11181632653061226,\n",
       " 0.06738721804511279,\n",
       " 0.26543981481481477,\n",
       " 0.3544387755102041,\n",
       " 0.09385771461243161,\n",
       " 0.08035384420321665,\n",
       " 0.12005952380952382,\n",
       " 0.21776859504132234,\n",
       " 0.1207368082368083,\n",
       " 0.09521396396396396,\n",
       " 0.14255061115355233,\n",
       " 0.12614942528735637,\n",
       " 0.17627911770768911,\n",
       " 0.14996776140526152,\n",
       " 0.1591338259441708,\n",
       " 0.2570270224567099,\n",
       " 0.24271881932329709,\n",
       " 0.16420537566714483,\n",
       " 0.09242424242424245,\n",
       " 0.1499326145552561,\n",
       " 0.2447642600280791,\n",
       " 0.18082167832167834,\n",
       " 0.1820965447595881,\n",
       " 0.13140633608815425,\n",
       " 0.29827235772357724,\n",
       " 0.2033879904162923,\n",
       " 0.33716931216931223,\n",
       " 0.22370682508980383,\n",
       " 0.2608240030409842,\n",
       " 0.1530658838878017,\n",
       " 0.13871100164203615,\n",
       " 0.1775793650793651,\n",
       " 0.2618055555555555,\n",
       " 0.16978042328042325,\n",
       " 0.1965093332850992,\n",
       " 0.19375,\n",
       " 0.15216026726896292,\n",
       " 0.13913408981590794,\n",
       " 0.3134865134865134,\n",
       " 0.23493059476755132,\n",
       " 0.20707755359394706,\n",
       " 0.23194756554307125,\n",
       " 0.2047326007326007,\n",
       " 0.23940170940170943,\n",
       " 0.2137544091710757,\n",
       " 0.15981203007518796,\n",
       " 0.366969696969697,\n",
       " 0.167263986013986,\n",
       " 0.2778846153846154,\n",
       " 0.38730158730158726,\n",
       " -0.00731398809523809,\n",
       " 0.13444444444444442,\n",
       " 0.11381868131868128,\n",
       " 0.1447273465171193,\n",
       " 0.3041125541125541,\n",
       " 0.1308610978898937,\n",
       " 0.23541666666666664,\n",
       " 0.19626323676323676,\n",
       " 0.281265664160401,\n",
       " 0.14920138888888887,\n",
       " 0.11180143269428984,\n",
       " 0.10284552845528458,\n",
       " 0.02876794258373206,\n",
       " 0.09468561584840648,\n",
       " 0.2894300771692077,\n",
       " 0.2445919011544012,\n",
       " 0.09468005952380955,\n",
       " 0.08841097308488614,\n",
       " 0.18773482000455688,\n",
       " 0.28038362346872975,\n",
       " 0.1483587140439932,\n",
       " 0.3231380952380952,\n",
       " 0.13611904761904758,\n",
       " 0.2838379530916844,\n",
       " 0.17691666666666667,\n",
       " 0.14718954248366017,\n",
       " 0.174212883470696,\n",
       " 0.11771876446404751,\n",
       " 0.15106946084218809,\n",
       " 0.10520872889293943,\n",
       " 0.16739249834297762,\n",
       " 0.19728395061728393,\n",
       " 0.22764515455304937,\n",
       " 0.18852564102564107,\n",
       " 0.15122826908541193,\n",
       " 0.15865679868785454,\n",
       " 0.18023368606701945,\n",
       " 0.06858013937282227,\n",
       " 0.16150067069081156,\n",
       " 0.2686342075892857,\n",
       " 0.1910651105225809,\n",
       " 0.27425595238095235,\n",
       " 0.2822222222222222,\n",
       " 0.35000000000000003,\n",
       " 0.16302258374839002,\n",
       " 0.16298139624088992,\n",
       " 0.12175948345439871,\n",
       " 0.19068558253340862,\n",
       " 0.21479482323232316,\n",
       " 0.10201149425287358,\n",
       " 0.2523088023088023,\n",
       " 0.16063835358190204,\n",
       " 0.21333054626532882,\n",
       " 0.17882243258749278,\n",
       " 0.22041847041847043,\n",
       " 0.12123809523809526,\n",
       " 0.12548850574712644,\n",
       " 0.060554947060971163,\n",
       " 0.12159040671971705,\n",
       " 0.19042487684729056,\n",
       " 0.1746324951644101,\n",
       " 0.41092436974789914,\n",
       " 0.2583333333333333,\n",
       " 0.022678058783321943,\n",
       " 0.19014472455648931,\n",
       " 0.16208410636982068,\n",
       " 0.14495804988662128,\n",
       " 0.20729166666666665,\n",
       " 0.1497257587917701,\n",
       " 0.27170692640692645,\n",
       " 0.20909090909090908,\n",
       " 0.14901002506265665,\n",
       " 0.18633727831308475,\n",
       " 0.13182110682110681,\n",
       " 0.18873584748584749,\n",
       " 0.15212241462241463,\n",
       " 0.19810064935064933,\n",
       " 0.16487394957983195,\n",
       " 0.26718658892128283,\n",
       " 0.09397546897546898,\n",
       " 0.19299883230804282,\n",
       " 0.21458333333333332,\n",
       " 0.18049778410889517,\n",
       " 0.07749766573295987,\n",
       " 0.10061524715594486,\n",
       " 0.0910265700483092,\n",
       " 0.11814835927431343,\n",
       " 0.24835434173669468,\n",
       " 0.1125,\n",
       " 0.09725790513833991,\n",
       " 0.15624327956989242,\n",
       " 0.2892399267399268,\n",
       " 0.08118815708101422,\n",
       " 0.31218137254901956,\n",
       " 0.23443268665490896,\n",
       " 0.15712049592564303,\n",
       " 0.22626266206911352,\n",
       " 0.20284715284715288,\n",
       " 0.09010724852071009,\n",
       " 0.10291663263361381,\n",
       " 0.029444444444444447,\n",
       " 0.14079889807162535,\n",
       " 0.07447855175127903,\n",
       " 0.1249380827505827,\n",
       " 0.1477994227994228,\n",
       " 0.2837797619047619,\n",
       " 0.23166909620991255,\n",
       " 0.16282051282051277,\n",
       " 0.19930451127819554,\n",
       " 0.21122513399299103,\n",
       " 0.06764705882352941,\n",
       " 0.21115196078431375,\n",
       " 0.2833904983904984,\n",
       " 0.2064546130952381,\n",
       " 0.16194099378881988,\n",
       " 0.1448431502397508,\n",
       " 0.273,\n",
       " 0.1450861195542046,\n",
       " 0.2461538461538462,\n",
       " 0.26441798941798944,\n",
       " 0.1526569976076556,\n",
       " 0.30270527859237545,\n",
       " 0.13410414404996462,\n",
       " 0.09888888888888889,\n",
       " ...]"
      ]
     },
     "execution_count": 20,
     "metadata": {},
     "output_type": "execute_result"
    }
   ],
   "source": [
    "sentiments"
   ]
  },
  {
   "cell_type": "code",
   "execution_count": 21,
   "metadata": {
    "collapsed": false,
    "deletable": true,
    "editable": true
   },
   "outputs": [
    {
     "data": {
      "text/plain": [
       "'B005JYP854'"
      ]
     },
     "execution_count": 21,
     "metadata": {},
     "output_type": "execute_result"
    }
   ],
   "source": [
    "product_num(-0.1460401891252955)\n",
    "#Red Carpet Manicure Structure Base Coat Gel, 0.30 Ounce"
   ]
  },
  {
   "cell_type": "code",
   "execution_count": 22,
   "metadata": {
    "collapsed": false,
    "deletable": true,
    "editable": true
   },
   "outputs": [
    {
     "data": {
      "text/plain": [
       "'B005JYP854'"
      ]
     },
     "execution_count": 22,
     "metadata": {},
     "output_type": "execute_result"
    }
   ],
   "source": [
    "product_num(-0.1460401891252955)"
   ]
  },
  {
   "cell_type": "code",
   "execution_count": 23,
   "metadata": {
    "collapsed": false,
    "deletable": true,
    "editable": true
   },
   "outputs": [
    {
     "data": {
      "text/plain": [
       "'B000EODF9K'"
      ]
     },
     "execution_count": 23,
     "metadata": {},
     "output_type": "execute_result"
    }
   ],
   "source": [
    "product_num(-0.09779411764705881)\n",
    "# frizz control spray"
   ]
  },
  {
   "cell_type": "code",
   "execution_count": 24,
   "metadata": {
    "collapsed": false,
    "deletable": true,
    "editable": true
   },
   "outputs": [
    {
     "data": {
      "text/plain": [
       "'B0001AGMWE'"
      ]
     },
     "execution_count": 24,
     "metadata": {},
     "output_type": "execute_result"
    }
   ],
   "source": [
    "product_num(-0.09265873015873015)\n",
    "# Miracell ProEar-for Itchy, Irritated Ears .5 OZ "
   ]
  },
  {
   "cell_type": "code",
   "execution_count": 25,
   "metadata": {
    "collapsed": false,
    "deletable": true,
    "editable": true
   },
   "outputs": [
    {
     "data": {
      "text/plain": [
       "'B00CU5749S'"
      ]
     },
     "execution_count": 25,
     "metadata": {},
     "output_type": "execute_result"
    }
   ],
   "source": [
    "product_num(-0.08664502164502164)\n",
    "#Beaute Galleria - Spring Facial Hair Removal Stick Epilator Threading Beauty Too"
   ]
  },
  {
   "cell_type": "code",
   "execution_count": 26,
   "metadata": {
    "collapsed": false,
    "deletable": true,
    "editable": true
   },
   "outputs": [
    {
     "data": {
      "text/plain": [
       "'B004XY1CY2'"
      ]
     },
     "execution_count": 26,
     "metadata": {},
     "output_type": "execute_result"
    }
   ],
   "source": [
    "product_num(-0.0831845238095238)\n",
    "# Relief Epsom Salt Lavender - Calming & Relaxing Soak, 16 oz,(Blue Cross Laboratories)"
   ]
  },
  {
   "cell_type": "markdown",
   "metadata": {
    "deletable": true,
    "editable": true
   },
   "source": [
    "### Most Positive"
   ]
  },
  {
   "cell_type": "code",
   "execution_count": 27,
   "metadata": {
    "collapsed": false,
    "deletable": true,
    "editable": true
   },
   "outputs": [
    {
     "data": {
      "text/plain": [
       "'B000R4DZRE'"
      ]
     },
     "execution_count": 27,
     "metadata": {},
     "output_type": "execute_result"
    }
   ],
   "source": [
    "product_num(0.546)\n",
    "# I couldn't find it but it was a perfume of some sort"
   ]
  },
  {
   "cell_type": "code",
   "execution_count": 28,
   "metadata": {
    "collapsed": false,
    "deletable": true,
    "editable": true
   },
   "outputs": [
    {
     "data": {
      "text/plain": [
       "'B00AWXC2XS'"
      ]
     },
     "execution_count": 28,
     "metadata": {},
     "output_type": "execute_result"
    }
   ],
   "source": [
    "product_num(0.5284313725490195)\n",
    "#It Cosmetics Heavenly Luxe Buffing Airbrush Foundation Brush"
   ]
  },
  {
   "cell_type": "code",
   "execution_count": 29,
   "metadata": {
    "collapsed": false,
    "deletable": true,
    "editable": true
   },
   "outputs": [
    {
     "data": {
      "text/plain": [
       "'softttti love brush fall yet hopefully never makes great blush brush blends makeup wellbrush worth price love well makeup applied brush gives airbrushed look buying brushes companypurchased brush looking nice airbrush finish foundation application loved much currently purchasing whole line cosmetics makeup brush line great product made excellently shedding whatsoever greatly recommendhigh quality brush price hesitate try use apply tarte foundation rather giant brush get product one perfect size washes well clarifying shampoo dries quickly propped tumbler brush head stays full firmbest quality brushes ever used soft touch shedding brushes blend makeup perfectly'"
      ]
     },
     "execution_count": 29,
     "metadata": {},
     "output_type": "execute_result"
    }
   ],
   "source": [
    "grouped[sentiments.index(0.5284313725490195)]"
   ]
  },
  {
   "cell_type": "code",
   "execution_count": 30,
   "metadata": {
    "collapsed": false,
    "deletable": true,
    "editable": true
   },
   "outputs": [
    {
     "data": {
      "text/plain": [
       "'B006N9LWWW'"
      ]
     },
     "execution_count": 30,
     "metadata": {},
     "output_type": "execute_result"
    }
   ],
   "source": [
    "product_num(0.5277777777777778)\n",
    "#Suave Professionals Mens, 3 in 1 Shampoo/Conditioner/Body Wash, Citrus Rush, 28oz "
   ]
  },
  {
   "cell_type": "code",
   "execution_count": 31,
   "metadata": {
    "collapsed": false,
    "deletable": true,
    "editable": true
   },
   "outputs": [
    {
     "data": {
      "text/plain": [
       "'B002DMQRXW'"
      ]
     },
     "execution_count": 31,
     "metadata": {},
     "output_type": "execute_result"
    }
   ],
   "source": [
    "product_num(0.5261904761904762)\n",
    "# Suave Skin Solutions Lotion Pump, Soothing Aloe, 18 Ounce"
   ]
  },
  {
   "cell_type": "code",
   "execution_count": 32,
   "metadata": {
    "collapsed": false,
    "deletable": true,
    "editable": true
   },
   "outputs": [
    {
     "data": {
      "text/plain": [
       "'B004VUJX44'"
      ]
     },
     "execution_count": 32,
     "metadata": {},
     "output_type": "execute_result"
    }
   ],
   "source": [
    "product_num( 0.5258730158730158)\n",
    "# ??"
   ]
  },
  {
   "cell_type": "markdown",
   "metadata": {
    "deletable": true,
    "editable": true
   },
   "source": [
    "### Interesting Case"
   ]
  },
  {
   "cell_type": "code",
   "execution_count": 33,
   "metadata": {
    "collapsed": false,
    "deletable": true,
    "editable": true
   },
   "outputs": [
    {
     "data": {
      "text/plain": [
       "234"
      ]
     },
     "execution_count": 33,
     "metadata": {},
     "output_type": "execute_result"
    }
   ],
   "source": [
    "sentiments.index(-0.009599929359343574)"
   ]
  },
  {
   "cell_type": "code",
   "execution_count": 34,
   "metadata": {
    "collapsed": false,
    "deletable": true,
    "editable": true
   },
   "outputs": [
    {
     "data": {
      "text/plain": [
       "'B0000YUXI0'"
      ]
     },
     "execution_count": 34,
     "metadata": {},
     "output_type": "execute_result"
    }
   ],
   "source": [
    "grouped.index[234]"
   ]
  },
  {
   "cell_type": "markdown",
   "metadata": {
    "deletable": true,
    "editable": true
   },
   "source": [
    "** This example used language such as disgusting, sucks, and bitter which generally would have been a considered negative.  However, the goal of the product was to deter nail biting and thumb sucking so the use of these terms was positive. **\n",
    "\n"
   ]
  },
  {
   "cell_type": "markdown",
   "metadata": {
    "deletable": true,
    "editable": true
   },
   "source": [
    "### Positive Reveiws Sentiment Polarity Text Blob"
   ]
  },
  {
   "cell_type": "code",
   "execution_count": 41,
   "metadata": {
    "collapsed": true,
    "deletable": true,
    "editable": true
   },
   "outputs": [],
   "source": [
    "pos_reviews = beauty[beauty.pos_neg == 1]\n",
    "neg_reviews = beauty[beauty.pos_neg == 0]\n",
    "#pos_reviews.head()"
   ]
  },
  {
   "cell_type": "code",
   "execution_count": 36,
   "metadata": {
    "collapsed": false,
    "deletable": true,
    "editable": true
   },
   "outputs": [
    {
     "name": "stdout",
     "output_type": "stream",
     "text": [
      "12086\n"
     ]
    },
    {
     "data": {
      "text/plain": [
       "asin\n",
       "7806397051    texture concealer pallet fantastic great cover...\n",
       "9759091062    bought product 3 months ago finished tube xtre...\n",
       "9788072216    big fan prada fragrances years absolutely fell...\n",
       "9790790961    picky comes fragrance love wear want leave oth...\n",
       "9790794231    unique scent deep mysterious light floral time...\n",
       "Name: reviewText, dtype: object"
      ]
     },
     "execution_count": 36,
     "metadata": {},
     "output_type": "execute_result"
    }
   ],
   "source": [
    "grouped_pos = pos_reviews['reviewText'].groupby(pos_reviews['asin']).sum()\n",
    "print(len(grouped_pos))\n",
    "grouped_pos.head()"
   ]
  },
  {
   "cell_type": "code",
   "execution_count": 37,
   "metadata": {
    "collapsed": true,
    "deletable": true,
    "editable": true
   },
   "outputs": [],
   "source": [
    "sentiments_pos = []\n",
    "for x in grouped_pos.index:\n",
    "    sentiments_pos.append(product_sentiment(x))\n",
    "#sentiments_pos"
   ]
  },
  {
   "cell_type": "code",
   "execution_count": 38,
   "metadata": {
    "collapsed": false,
    "deletable": true,
    "editable": true,
    "scrolled": true
   },
   "outputs": [
    {
     "data": {
      "image/png": "[encoded data removed]",
      "text/plain": [
       "<matplotlib.figure.Figure at 0x15e1732b0>"
      ]
     },
     "metadata": {},
     "output_type": "display_data"
    }
   ],
   "source": [
    "plot = sns.distplot(sentiments_pos);\n",
    "plot.set(xlabel='Polarity Score', ylabel='Count (1x10^3)')\n",
    "plt.show()"
   ]
  },
  {
   "cell_type": "code",
   "execution_count": 39,
   "metadata": {
    "collapsed": false,
    "deletable": true,
    "editable": true
   },
   "outputs": [
    {
     "data": {
      "text/plain": [
       "0.19917809857173735"
      ]
     },
     "execution_count": 39,
     "metadata": {},
     "output_type": "execute_result"
    }
   ],
   "source": [
    "np.mean(sentiments_pos)"
   ]
  },
  {
   "cell_type": "markdown",
   "metadata": {
    "deletable": true,
    "editable": true
   },
   "source": [
    "** This is only slightly more positive than the overall reviews (0.19906633880798294). This is understandable since the majority of reviews are in fact positive. **"
   ]
  },
  {
   "cell_type": "code",
   "execution_count": 42,
   "metadata": {
    "collapsed": false,
    "deletable": true,
    "editable": true
   },
   "outputs": [
    {
     "name": "stdout",
     "output_type": "stream",
     "text": [
      "10023\n"
     ]
    },
    {
     "data": {
      "text/plain": [
       "asin\n",
       "7806397051    oily creamy expected ordered try highlight con...\n",
       "9759091062    nothing stings put used whole tube nothing lig...\n",
       "9790790961    bright crystals reminds victoria secrets gorge...\n",
       "9790794231    like perfume first discovered insert magazine ...\n",
       "B00004TMFE    pretty disappointed shampoo conditioner high h...\n",
       "Name: reviewText, dtype: object"
      ]
     },
     "execution_count": 42,
     "metadata": {},
     "output_type": "execute_result"
    }
   ],
   "source": [
    "grouped_neg = neg_reviews['reviewText'].groupby(neg_reviews['asin']).sum()\n",
    "print(len(grouped_neg))\n",
    "grouped_neg.head()"
   ]
  },
  {
   "cell_type": "code",
   "execution_count": 43,
   "metadata": {
    "collapsed": true,
    "deletable": true,
    "editable": true
   },
   "outputs": [],
   "source": [
    "sentiments_neg = []\n",
    "for x in grouped_neg.index:\n",
    "    sentiments_neg.append(product_sentiment(x))\n",
    "#sentiments_neg"
   ]
  },
  {
   "cell_type": "code",
   "execution_count": 44,
   "metadata": {
    "collapsed": false,
    "deletable": true,
    "editable": true
   },
   "outputs": [
    {
     "data": {
      "image/png": "[encoded data removed]",
      "text/plain": [
       "<matplotlib.figure.Figure at 0x15e15b898>"
      ]
     },
     "metadata": {},
     "output_type": "display_data"
    }
   ],
   "source": [
    "plot = sns.distplot(sentiments_neg);\n",
    "plot.set(xlabel='Polarity Score', ylabel='Count (1x10^3)')\n",
    "plt.show()"
   ]
  },
  {
   "cell_type": "code",
   "execution_count": 45,
   "metadata": {
    "collapsed": false,
    "deletable": true,
    "editable": true
   },
   "outputs": [
    {
     "data": {
      "text/plain": [
       "0.19057826841317188"
      ]
     },
     "execution_count": 45,
     "metadata": {},
     "output_type": "execute_result"
    }
   ],
   "source": [
    "np.mean(sentiments_neg)"
   ]
  },
  {
   "cell_type": "markdown",
   "metadata": {
    "deletable": true,
    "editable": true
   },
   "source": [
    "** This is only slightly more negative than the overall reviews (0.19906633880798294). This is understandable since the majority of reviews are in fact positive. Something to note, there is a larger difference between the negative reviews and the overall reviews' polarity then the positive reviews. ** "
   ]
  },
  {
   "cell_type": "code",
   "execution_count": 46,
   "metadata": {
    "collapsed": false,
    "deletable": true,
    "editable": true
   },
   "outputs": [
    {
     "data": {
      "text/plain": [
       "[<matplotlib.text.Text at 0x15e0a7630>, <matplotlib.text.Text at 0x15e03c198>]"
      ]
     },
     "execution_count": 46,
     "metadata": {},
     "output_type": "execute_result"
    },
    {
     "data": {
      "image/png": "[encoded data removed]",
      "text/plain": [
       "<matplotlib.figure.Figure at 0x15e1c2a58>"
      ]
     },
     "metadata": {},
     "output_type": "display_data"
    }
   ],
   "source": [
    "# Blue\n",
    "plot = sns.distplot(sentiments_neg);\n",
    "plot.set(xlabel='Polarity Score', ylabel='Count (1x10^3)')\n",
    "# Green\n",
    "plot = sns.distplot(sentiments_pos);\n",
    "plot.set(xlabel='Polarity Score', ylabel='Count (1x10^3)')"
   ]
  },
  {
   "cell_type": "markdown",
   "metadata": {
    "deletable": true,
    "editable": true
   },
   "source": [
    "** I was surprised about how much overlap there was between the positive and negative reviews. After some research, I found that Amazon will get rid of poor performing products and sellers. Therefore, Amazon wants to minimize the amount of negative reviews since these reviews will effect their overall credability. **"
   ]
  },
  {
   "cell_type": "code",
   "execution_count": 47,
   "metadata": {
    "collapsed": false,
    "deletable": true,
    "editable": true
   },
   "outputs": [
    {
     "data": {
      "text/plain": [
       "Ttest_indResult(statistic=-8.5371775600761808, pvalue=1.4627534993781884e-17)"
      ]
     },
     "execution_count": 47,
     "metadata": {},
     "output_type": "execute_result"
    }
   ],
   "source": [
    "ttest_ind(sentiments_neg, sentiments_pos)"
   ]
  },
  {
   "cell_type": "markdown",
   "metadata": {},
   "source": [
    "** The two curves are actually statistically significantly different according to the ttest since the p-value is less than 0.05 and the t statistic is outside the range of 2, -2. **  "
   ]
  },
  {
   "cell_type": "code",
   "execution_count": 63,
   "metadata": {
    "collapsed": false
   },
   "outputs": [
    {
     "data": {
      "text/plain": [
       "(0.19057826841317188, 0.19917809857173735)"
      ]
     },
     "execution_count": 63,
     "metadata": {},
     "output_type": "execute_result"
    }
   ],
   "source": [
    "np.mean(sentiments_neg), np.mean(sentiments_pos)"
   ]
  },
  {
   "cell_type": "code",
   "execution_count": 56,
   "metadata": {
    "collapsed": false
   },
   "outputs": [
    {
     "data": {
      "text/plain": [
       "2.2650237395432966"
      ]
     },
     "execution_count": 56,
     "metadata": {},
     "output_type": "execute_result"
    }
   ],
   "source": [
    "neg_reviews.overall.mean()"
   ]
  },
  {
   "cell_type": "markdown",
   "metadata": {},
   "source": [
    "**This is interesting since most of the negative reviews seem to be scored at a 3. **"
   ]
  },
  {
   "cell_type": "code",
   "execution_count": 57,
   "metadata": {
    "collapsed": false
   },
   "outputs": [
    {
     "data": {
      "text/plain": [
       "4.742396546359676"
      ]
     },
     "execution_count": 57,
     "metadata": {},
     "output_type": "execute_result"
    }
   ],
   "source": [
    "pos_reviews.overall.mean()"
   ]
  },
  {
   "cell_type": "code",
   "execution_count": null,
   "metadata": {
    "collapsed": true
   },
   "outputs": [],
   "source": []
  }
 ],
 "metadata": {
  "kernelspec": {
   "display_name": "Python [conda env:nlp]",
   "language": "python",
   "name": "conda-env-nlp-py"
  },
  "language_info": {
   "codemirror_mode": {
    "name": "ipython",
    "version": 3
   },
   "file_extension": ".py",
   "mimetype": "text/x-python",
   "name": "python",
   "nbconvert_exporter": "python",
   "pygments_lexer": "ipython3",
   "version": "3.5.2"
  }
 },
 "nbformat": 4,
 "nbformat_minor": 2
}
